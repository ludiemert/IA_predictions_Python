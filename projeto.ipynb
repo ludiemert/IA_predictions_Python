{
 "cells": [
  {
   "cell_type": "markdown",
   "metadata": {},
   "source": [
    "# Projeto Python IA: Inteligência Artificial e Previsões\n",
    "\n",
    "### Case: Score de Crédito dos Clientes\n",
    "\n",
    "Você foi contratado por um banco para conseguir definir o score de crédito dos clientes. Você precisa analisar todos os clientes do banco e, com base nessa análise, criar um modelo que consiga ler as informações do cliente e dizer automaticamente o score de crédito dele: Ruim, Ok, Bom"
   ]
  },
  {
   "cell_type": "markdown",
   "metadata": {},
   "source": []
  },
  {
   "cell_type": "markdown",
   "metadata": {},
   "source": [
    "# Passo a Passo\n",
    "# Passo 0 - Entender a empresa e o desafio da empresa \n",
    "  # score de credito = Nota de credito\n",
    "# Passo 1 - Importar a base de dados = treinar a IA para dizer como eh esse nosso cliente\n",
    "# Passo 2 - Preparar a base de dados para a IA = minha IA tem que aprender minha base de      dados = machine learning\n",
    "# Passo 3 - Treinar a IA => criar o modelo de credito: se o cliente eh Boa, ok, Ruin\n",
    "# Passo 4 - Escolher qual o melhor modelo - o modelo criado no passo 3, qual modelo esta acertando mais para a analise\n",
    "# Passo 5 - Usar o melhor modelo para fazer previsao de novos clientes"
   ]
  },
  {
   "cell_type": "markdown",
   "metadata": {},
   "source": [
    "# O que vai precisar para fazer o projeto de PY"
   ]
  }
 ],
 "metadata": {
  "language_info": {
   "name": "python"
  }
 },
 "nbformat": 4,
 "nbformat_minor": 2
}
