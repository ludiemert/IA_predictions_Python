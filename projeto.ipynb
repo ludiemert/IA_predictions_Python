{
 "cells": [
  {
   "cell_type": "markdown",
   "metadata": {},
   "source": [
    "# Projeto Python IA: Inteligência Artificial e Previsões\n",
    "\n",
    "### Case: Score de Crédito dos Clientes\n",
    "\n",
    "Você foi contratado por um banco para conseguir definir o score de crédito dos clientes. Você precisa analisar todos os clientes do banco e, com base nessa análise, criar um modelo que consiga ler as informações do cliente e dizer automaticamente o score de crédito dele: Ruim, Ok, Bom"
   ]
  },
  {
   "cell_type": "markdown",
   "metadata": {},
   "source": []
  },
  {
   "cell_type": "markdown",
   "metadata": {},
   "source": [
    "# Passo a Passo\n",
    "# Passo 0 - Entender a empresa e o desafio da empresa \n",
    "  # score de credito = Nota de credito\n",
    "# Passo 1 - Importar a base de dados = treinar a IA para dizer como eh esse nosso cliente\n",
    "# Passo 2 - Preparar a base de dados para a IA = minha IA tem que aprender minha base de      dados = machine learning\n",
    "# Passo 3 - Treinar a IA => criar o modelo de credito: se o cliente eh Boa, ok, Ruin\n",
    "# Passo 4 - Escolher qual o melhor modelo - o modelo criado no passo 3, qual modelo esta acertando mais para a analise\n",
    "# Passo 5 - Usar o melhor modelo para fazer previsao de novos clientes"
   ]
  },
  {
   "cell_type": "markdown",
   "metadata": {},
   "source": [
    "# O que vai precisar para fazer o projeto de PY\n",
    "- pandas - trab com a BD do projeto em PY de forma eficiente.\n",
    "-  Scikit-learn (toda vez que for usar um projeto com IA precisa importar essa lb) é uma biblioteca de machine learning (aprendizado de máquina) para Python.\n",
    "\n",
    "# comandos para criar essas lib:\n",
    " - pip install scikit-learn pandas\n",
    "  - Ja selevionar a versao de PY que vai utilizar , estou utilizando a 3.13"
   ]
  },
  {
   "cell_type": "code",
   "execution_count": null,
   "metadata": {},
   "outputs": [
    {
     "ename": "",
     "evalue": "",
     "output_type": "error",
     "traceback": [
      "\u001b[1;31mRunning cells with '.venv (Python 3.13.0)' requires the ipykernel package.\n",
      "\u001b[1;31mRun the following command to install 'ipykernel' into the Python environment. \n",
      "\u001b[1;31mCommand: 'c:/Users/user/Downloads/IA_predictions_Python/.venv/Scripts/python.exe -m pip install ipykernel -U --force-reinstall'"
     ]
    }
   ],
   "source": [
    "# mostrará as versões\n",
    "import pandas as d\n",
    "import sklearn\n",
    "\n",
    "print(\"Pandas Versao: \", pd.__version__)\n",
    "print(\"Scikit-learn Versao: \", sklearn._version__)"
   ]
  }
 ],
 "metadata": {
  "kernelspec": {
   "display_name": ".venv",
   "language": "python",
   "name": "python3"
  },
  "language_info": {
   "name": "python",
   "version": "3.13.0"
  }
 },
 "nbformat": 4,
 "nbformat_minor": 2
}
